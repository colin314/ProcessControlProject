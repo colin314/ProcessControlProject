{
 "cells": [
  {
   "cell_type": "code",
   "execution_count": 2,
   "metadata": {},
   "outputs": [
    {
     "ename": "ImportError",
     "evalue": "cannot import name 'spline' from 'scipy.interpolate' (c:\\users\\canderson\\appdata\\local\\programs\\python\\python38\\lib\\site-packages\\scipy\\interpolate\\__init__.py)",
     "output_type": "error",
     "traceback": [
      "\u001b[1;31m---------------------------------------------------------------------------\u001b[0m",
      "\u001b[1;31mImportError\u001b[0m                               Traceback (most recent call last)",
      "\u001b[1;32m<ipython-input-2-f9dab24384f6>\u001b[0m in \u001b[0;36m<module>\u001b[1;34m\u001b[0m\n\u001b[0;32m      3\u001b[0m \u001b[1;32mimport\u001b[0m \u001b[0mmatplotlib\u001b[0m\u001b[1;33m.\u001b[0m\u001b[0mpyplot\u001b[0m \u001b[1;32mas\u001b[0m \u001b[0mplt\u001b[0m\u001b[1;33m\u001b[0m\u001b[1;33m\u001b[0m\u001b[0m\n\u001b[0;32m      4\u001b[0m \u001b[1;32mfrom\u001b[0m \u001b[0mscipy\u001b[0m\u001b[1;33m.\u001b[0m\u001b[0mintegrate\u001b[0m \u001b[1;32mimport\u001b[0m \u001b[0modeint\u001b[0m\u001b[1;33m\u001b[0m\u001b[1;33m\u001b[0m\u001b[0m\n\u001b[1;32m----> 5\u001b[1;33m \u001b[1;32mfrom\u001b[0m \u001b[0mscipy\u001b[0m\u001b[1;33m.\u001b[0m\u001b[0minterpolate\u001b[0m \u001b[1;32mimport\u001b[0m \u001b[0mspline\u001b[0m\u001b[1;33m,\u001b[0m \u001b[0minterp1d\u001b[0m\u001b[1;33m\u001b[0m\u001b[1;33m\u001b[0m\u001b[0m\n\u001b[0m\u001b[0;32m      6\u001b[0m \u001b[1;32mfrom\u001b[0m \u001b[0mscipy\u001b[0m\u001b[1;33m.\u001b[0m\u001b[0moptimize\u001b[0m \u001b[1;32mimport\u001b[0m \u001b[0mfsolve\u001b[0m\u001b[1;33m\u001b[0m\u001b[1;33m\u001b[0m\u001b[0m\n",
      "\u001b[1;31mImportError\u001b[0m: cannot import name 'spline' from 'scipy.interpolate' (c:\\users\\canderson\\appdata\\local\\programs\\python\\python38\\lib\\site-packages\\scipy\\interpolate\\__init__.py)"
     ]
    }
   ],
   "source": [
    "import numpy as np\n",
    "%matplotlib inline\n",
    "import matplotlib.pyplot as plt\n",
    "from scipy.integrate import odeint\n",
    "from scipy.interpolate import spline, interp1d\n",
    "from scipy.optimize import fsolve"
   ]
  },
  {
   "cell_type": "code",
   "execution_count": 2,
   "metadata": {},
   "outputs": [
    {
     "name": "stdout",
     "output_type": "stream",
     "text": [
      "Gate dimensions at \"empty\" dam (30m) and fully open gate:\n",
      "   Gate Height = 13.5 m\n",
      "   Gate Width = 1.0946 m\n",
      "   Max Flow rate = 358.5 m^3/s\n"
     ]
    }
   ],
   "source": [
    "# fully open gate height estimated from diagram on source 4\n",
    "print('Gate dimensions at \"empty\" dam (30m) and fully open gate:')\n",
    "GateHeight = (503-476)/2\n",
    "print('   Gate Height =',round(GateHeight,2),'m')\n",
    "GateFlowArea = 3.84405**2 # m^2 so that flow rate maxes at 358.5 m^3/s\n",
    "GateWidth = GateFlowArea/GateHeight\n",
    "print('   Gate Width =',round(GateWidth,4),'m')\n",
    "def FlowRate(h,Δz):\n",
    "    # h  = height of opening of the gate valve\n",
    "    # Δz = dam depth can range from 30 to 220 m\n",
    "    # returns the flow rate (q)\n",
    "    width = GateWidth #m\n",
    "    A = h*width\n",
    "    g = 9.81 # m/s^2\n",
    "    v = np.sqrt(2*g*Δz) # m/s - velocity of water\n",
    "    q = A*v # flow rate through gate maxes at 358.5 m^3/s\n",
    "    return q\n",
    "print('   Max Flow rate =',round(FlowRate(13.5,30),2),'m^3/s')"
   ]
  },
  {
   "cell_type": "code",
   "execution_count": 3,
   "metadata": {},
   "outputs": [
    {
     "name": "stdout",
     "output_type": "stream",
     "text": [
      "At maximum gate opening and \"empty\" dam (30m):\n",
      "   Max power output = 87.27 MW\n"
     ]
    }
   ],
   "source": [
    "def PowerOut(h,Δz):\n",
    "    # This function give the power output given the height of the\n",
    "    #     gate's opening, and depth of the dam\n",
    "    # returns power output in MW\n",
    "    \n",
    "    q = FlowRate(h,Δz)\n",
    "    g = 9.81 # m/s^2\n",
    "    \n",
    "    # efficiency found using max rated flowrate (358.5 m^3/s)\n",
    "    # and rated output (640 MW)\n",
    "    η = .8286\n",
    "    \n",
    "    ρ = 998.29 # kg/m^3 - density of water at 20°C\n",
    "    W_dam = ρ*g*q*Δz # Energy from dam hydrostatic pressure\n",
    "    W_head = 0#ρ*g*q*194 # Energy from 194 m head between gate and turbine\n",
    "    return η*(W_dam+W_head) / 10**6\n",
    "\n",
    "print('At maximum gate opening and \"empty\" dam (30m):')\n",
    "print('   Max power output =',round(PowerOut(13.5,30),2),'MW')"
   ]
  },
  {
   "cell_type": "code",
   "execution_count": 4,
   "metadata": {},
   "outputs": [],
   "source": [
    "def FindOperatingHeights(Δz):\n",
    "    # Need to change the gate height depending on the Dam Level\n",
    "    #   in order to maintain within operating zones for turbine\n",
    "    \n",
    "    def HiMx(h):\n",
    "        return PowerOut(h,Δz)-640.0\n",
    "    HighMax = fsolve(HiMx,8)[0]\n",
    "    if HighMax > 13.5:\n",
    "        HighMax = 13.5\n",
    "    if HighMax < 0.0:\n",
    "        HighMax = 0.0\n",
    "    #print(HighMax)\n",
    "\n",
    "    def HiLo(h):\n",
    "        return PowerOut(h,Δz)-550.0\n",
    "    HighLow = fsolve(HiLo,8)[0]\n",
    "    if HighLow > 13.5:\n",
    "        HighLow = 13.5\n",
    "    if HighLow < 0:\n",
    "        HighLow = 0.0\n",
    "    #print(HighLow)\n",
    "\n",
    "    def LoMx(h):\n",
    "        return PowerOut(h,Δz)-350.0\n",
    "    LowMax = fsolve(LoMx,3)[0]\n",
    "    if LowMax > 13.5:\n",
    "        LowMax = 13.5\n",
    "    if LowMax < 0:\n",
    "        LowMax = 0.0\n",
    "    #print(LowMax)\n",
    "\n",
    "    def LoLo(h):\n",
    "        return PowerOut(h,Δz)-0.0\n",
    "    LowLow = fsolve(LoLo,3)[0]\n",
    "    if LowLow > 13.5:\n",
    "        LowLow = 13.5\n",
    "    if LowLow < 0:\n",
    "        LowLow = 0.0\n",
    "    #print(LowLow)\n",
    "    \n",
    "    return [HighMax,HighLow,LowMax,LowLow]"
   ]
  },
  {
   "cell_type": "code",
   "execution_count": 15,
   "metadata": {},
   "outputs": [
    {
     "name": "stderr",
     "output_type": "stream",
     "text": [
      "C:\\ProgramData\\Anaconda3\\lib\\site-packages\\ipykernel_launcher.py:56: DeprecationWarning: `spline` is deprecated!\n",
      "spline is deprecated in scipy 0.19.0, use Bspline class instead.\n"
     ]
    },
    {
     "data": {
      "image/png": "[encoded data removed]",
      "text/plain": [
       "<Figure size 432x288 with 1 Axes>"
      ]
     },
     "metadata": {},
     "output_type": "display_data"
    }
   ],
   "source": [
    "# Step function of dam level\n",
    "ndays = 365\n",
    "#DamLevel = np.array([106,163,220,220,182,144,106,68,30,30,68,106])\n",
    "DamLevel = np.ones(ndays+1)\n",
    "DamLevel[0:31] *= 106\n",
    "DamLevel[31:59] *= 163\n",
    "DamLevel[59:90] *= 220\n",
    "DamLevel[90:120] *= 220\n",
    "DamLevel[120:151] *= 182\n",
    "DamLevel[151:181] *= 144\n",
    "DamLevel[181:212] *= 106\n",
    "DamLevel[212:243] *= 68\n",
    "DamLevel[243:273] *= 30\n",
    "DamLevel[273:304] *= 30\n",
    "DamLevel[304:334] *= 68\n",
    "DamLevel[334:366] *= 106\n",
    "\n",
    "# Find Operating Limits to graph\n",
    "TopMax = np.ones(len(DamLevel))\n",
    "TopLow = np.ones(len(DamLevel))\n",
    "BotMax = np.ones(len(DamLevel))\n",
    "BotLow = np.ones(len(DamLevel))\n",
    "for i in range(len(DamLevel)):\n",
    "    #print(i)\n",
    "    z = DamLevel[i]\n",
    "    values = FindOperatingHeights(z)\n",
    "    TopMax[i] = values[0]\n",
    "    TopLow[i] = values[1]\n",
    "    BotMax[i] = values[2]\n",
    "    BotLow[i] = values[3]\n",
    "\n",
    "ts = np.linspace(0,ndays,ndays+1) # Each day of the year\n",
    "\n",
    "#plt.grid()\n",
    "#plt.title('Safe Operating Height Regimes')\n",
    "#plt.plot(ts,TopMax,'--b',label='640-550 MW')\n",
    "#plt.plot(ts,TopLow,'--b')\n",
    "#plt.fill(np.append(ts, ts[::-1]), np.append(TopMax, TopLow[::-1]), 'b')\n",
    "#plt.plot(ts,BotMax,'--g',label='0-350 MW')\n",
    "#plt.plot(ts,BotLow,'--g')\n",
    "#plt.fill(np.append(ts, ts[::-1]), np.append(BotMax, BotLow[::-1]), 'g')\n",
    "#plt.legend(bbox_to_anchor=(1.05, 1.0), loc='upper left')\n",
    "#plt.show()\n",
    "\n",
    "#plt.grid()\n",
    "#plt.title('Dam Level Throughout the year')\n",
    "#plt.plot(ts,DamLevel,label='Dam Level')\n",
    "#plt.show()\n",
    "\n",
    "# Generate simulated process data\n",
    "avgHeight = (TopMax+TopLow)/2\n",
    "for i in range (len(TopMax)):\n",
    "    if avgHeight[i] == TopMax[i]:\n",
    "        avgHeight[i] = avgHeight[i-1]\n",
    "tsnew = np.linspace(0,ndays,2*ndays)\n",
    "newHeightSim = spline(ts,avgHeight,tsnew)\n",
    "process = newHeightSim + .01*np.sin(tsnew)\n",
    "\n",
    "plt.grid()\n",
    "plt.title('Average Max Wattage Height')\n",
    "plt.plot(tsnew,process)\n",
    "plt.show()"
   ]
  },
  {
   "cell_type": "markdown",
   "metadata": {},
   "source": [
    "$$h_{max} = 13.5\\ m,\\ h_{min} = 0.0\\ m$$"
   ]
  },
  {
   "cell_type": "code",
   "execution_count": 3,
   "metadata": {},
   "outputs": [
    {
     "ename": "ValueError",
     "evalue": "x and y must have same first dimension, but have shapes (200,) and (1,)",
     "output_type": "error",
     "traceback": [
      "\u001b[1;31m---------------------------------------------------------------------------\u001b[0m",
      "\u001b[1;31mValueError\u001b[0m                                Traceback (most recent call last)",
      "\u001b[1;32m<ipython-input-3-f1b69d93e92d>\u001b[0m in \u001b[0;36m<module>\u001b[1;34m\u001b[0m\n\u001b[0;32m      6\u001b[0m \u001b[0mh0\u001b[0m \u001b[1;33m=\u001b[0m \u001b[1;36m0\u001b[0m\u001b[1;33m\u001b[0m\u001b[1;33m\u001b[0m\u001b[0m\n\u001b[0;32m      7\u001b[0m \u001b[0msol\u001b[0m \u001b[1;33m=\u001b[0m \u001b[0modeint\u001b[0m\u001b[1;33m(\u001b[0m\u001b[0mgateHChange\u001b[0m\u001b[1;33m,\u001b[0m\u001b[0mh0\u001b[0m\u001b[1;33m,\u001b[0m\u001b[0mt\u001b[0m\u001b[1;33m)\u001b[0m\u001b[1;33m\u001b[0m\u001b[1;33m\u001b[0m\u001b[0m\n\u001b[1;32m----> 8\u001b[1;33m \u001b[0mplt\u001b[0m\u001b[1;33m.\u001b[0m\u001b[0mplot\u001b[0m\u001b[1;33m(\u001b[0m\u001b[0mt\u001b[0m\u001b[1;33m,\u001b[0m\u001b[0mh0\u001b[0m\u001b[1;33m)\u001b[0m\u001b[1;33m\u001b[0m\u001b[1;33m\u001b[0m\u001b[0m\n\u001b[0m\u001b[0;32m      9\u001b[0m \u001b[1;33m\u001b[0m\u001b[0m\n",
      "\u001b[1;32mc:\\users\\canderson\\appdata\\local\\programs\\python\\python38\\lib\\site-packages\\matplotlib\\pyplot.py\u001b[0m in \u001b[0;36mplot\u001b[1;34m(scalex, scaley, data, *args, **kwargs)\u001b[0m\n\u001b[0;32m   2822\u001b[0m \u001b[1;33m@\u001b[0m\u001b[0m_copy_docstring_and_deprecators\u001b[0m\u001b[1;33m(\u001b[0m\u001b[0mAxes\u001b[0m\u001b[1;33m.\u001b[0m\u001b[0mplot\u001b[0m\u001b[1;33m)\u001b[0m\u001b[1;33m\u001b[0m\u001b[1;33m\u001b[0m\u001b[0m\n\u001b[0;32m   2823\u001b[0m \u001b[1;32mdef\u001b[0m \u001b[0mplot\u001b[0m\u001b[1;33m(\u001b[0m\u001b[1;33m*\u001b[0m\u001b[0margs\u001b[0m\u001b[1;33m,\u001b[0m \u001b[0mscalex\u001b[0m\u001b[1;33m=\u001b[0m\u001b[1;32mTrue\u001b[0m\u001b[1;33m,\u001b[0m \u001b[0mscaley\u001b[0m\u001b[1;33m=\u001b[0m\u001b[1;32mTrue\u001b[0m\u001b[1;33m,\u001b[0m \u001b[0mdata\u001b[0m\u001b[1;33m=\u001b[0m\u001b[1;32mNone\u001b[0m\u001b[1;33m,\u001b[0m \u001b[1;33m**\u001b[0m\u001b[0mkwargs\u001b[0m\u001b[1;33m)\u001b[0m\u001b[1;33m:\u001b[0m\u001b[1;33m\u001b[0m\u001b[1;33m\u001b[0m\u001b[0m\n\u001b[1;32m-> 2824\u001b[1;33m     return gca().plot(\n\u001b[0m\u001b[0;32m   2825\u001b[0m         \u001b[1;33m*\u001b[0m\u001b[0margs\u001b[0m\u001b[1;33m,\u001b[0m \u001b[0mscalex\u001b[0m\u001b[1;33m=\u001b[0m\u001b[0mscalex\u001b[0m\u001b[1;33m,\u001b[0m \u001b[0mscaley\u001b[0m\u001b[1;33m=\u001b[0m\u001b[0mscaley\u001b[0m\u001b[1;33m,\u001b[0m\u001b[1;33m\u001b[0m\u001b[1;33m\u001b[0m\u001b[0m\n\u001b[0;32m   2826\u001b[0m         **({\"data\": data} if data is not None else {}), **kwargs)\n",
      "\u001b[1;32mc:\\users\\canderson\\appdata\\local\\programs\\python\\python38\\lib\\site-packages\\matplotlib\\axes\\_axes.py\u001b[0m in \u001b[0;36mplot\u001b[1;34m(self, scalex, scaley, data, *args, **kwargs)\u001b[0m\n\u001b[0;32m   1741\u001b[0m         \"\"\"\n\u001b[0;32m   1742\u001b[0m         \u001b[0mkwargs\u001b[0m \u001b[1;33m=\u001b[0m \u001b[0mcbook\u001b[0m\u001b[1;33m.\u001b[0m\u001b[0mnormalize_kwargs\u001b[0m\u001b[1;33m(\u001b[0m\u001b[0mkwargs\u001b[0m\u001b[1;33m,\u001b[0m \u001b[0mmlines\u001b[0m\u001b[1;33m.\u001b[0m\u001b[0mLine2D\u001b[0m\u001b[1;33m)\u001b[0m\u001b[1;33m\u001b[0m\u001b[1;33m\u001b[0m\u001b[0m\n\u001b[1;32m-> 1743\u001b[1;33m         \u001b[0mlines\u001b[0m \u001b[1;33m=\u001b[0m \u001b[1;33m[\u001b[0m\u001b[1;33m*\u001b[0m\u001b[0mself\u001b[0m\u001b[1;33m.\u001b[0m\u001b[0m_get_lines\u001b[0m\u001b[1;33m(\u001b[0m\u001b[1;33m*\u001b[0m\u001b[0margs\u001b[0m\u001b[1;33m,\u001b[0m \u001b[0mdata\u001b[0m\u001b[1;33m=\u001b[0m\u001b[0mdata\u001b[0m\u001b[1;33m,\u001b[0m \u001b[1;33m**\u001b[0m\u001b[0mkwargs\u001b[0m\u001b[1;33m)\u001b[0m\u001b[1;33m]\u001b[0m\u001b[1;33m\u001b[0m\u001b[1;33m\u001b[0m\u001b[0m\n\u001b[0m\u001b[0;32m   1744\u001b[0m         \u001b[1;32mfor\u001b[0m \u001b[0mline\u001b[0m \u001b[1;32min\u001b[0m \u001b[0mlines\u001b[0m\u001b[1;33m:\u001b[0m\u001b[1;33m\u001b[0m\u001b[1;33m\u001b[0m\u001b[0m\n\u001b[0;32m   1745\u001b[0m             \u001b[0mself\u001b[0m\u001b[1;33m.\u001b[0m\u001b[0madd_line\u001b[0m\u001b[1;33m(\u001b[0m\u001b[0mline\u001b[0m\u001b[1;33m)\u001b[0m\u001b[1;33m\u001b[0m\u001b[1;33m\u001b[0m\u001b[0m\n",
      "\u001b[1;32mc:\\users\\canderson\\appdata\\local\\programs\\python\\python38\\lib\\site-packages\\matplotlib\\axes\\_base.py\u001b[0m in \u001b[0;36m__call__\u001b[1;34m(self, data, *args, **kwargs)\u001b[0m\n\u001b[0;32m    271\u001b[0m                 \u001b[0mthis\u001b[0m \u001b[1;33m+=\u001b[0m \u001b[0margs\u001b[0m\u001b[1;33m[\u001b[0m\u001b[1;36m0\u001b[0m\u001b[1;33m]\u001b[0m\u001b[1;33m,\u001b[0m\u001b[1;33m\u001b[0m\u001b[1;33m\u001b[0m\u001b[0m\n\u001b[0;32m    272\u001b[0m                 \u001b[0margs\u001b[0m \u001b[1;33m=\u001b[0m \u001b[0margs\u001b[0m\u001b[1;33m[\u001b[0m\u001b[1;36m1\u001b[0m\u001b[1;33m:\u001b[0m\u001b[1;33m]\u001b[0m\u001b[1;33m\u001b[0m\u001b[1;33m\u001b[0m\u001b[0m\n\u001b[1;32m--> 273\u001b[1;33m             \u001b[1;32myield\u001b[0m \u001b[1;32mfrom\u001b[0m \u001b[0mself\u001b[0m\u001b[1;33m.\u001b[0m\u001b[0m_plot_args\u001b[0m\u001b[1;33m(\u001b[0m\u001b[0mthis\u001b[0m\u001b[1;33m,\u001b[0m \u001b[0mkwargs\u001b[0m\u001b[1;33m)\u001b[0m\u001b[1;33m\u001b[0m\u001b[1;33m\u001b[0m\u001b[0m\n\u001b[0m\u001b[0;32m    274\u001b[0m \u001b[1;33m\u001b[0m\u001b[0m\n\u001b[0;32m    275\u001b[0m     \u001b[1;32mdef\u001b[0m \u001b[0mget_next_color\u001b[0m\u001b[1;33m(\u001b[0m\u001b[0mself\u001b[0m\u001b[1;33m)\u001b[0m\u001b[1;33m:\u001b[0m\u001b[1;33m\u001b[0m\u001b[1;33m\u001b[0m\u001b[0m\n",
      "\u001b[1;32mc:\\users\\canderson\\appdata\\local\\programs\\python\\python38\\lib\\site-packages\\matplotlib\\axes\\_base.py\u001b[0m in \u001b[0;36m_plot_args\u001b[1;34m(self, tup, kwargs)\u001b[0m\n\u001b[0;32m    397\u001b[0m \u001b[1;33m\u001b[0m\u001b[0m\n\u001b[0;32m    398\u001b[0m         \u001b[1;32mif\u001b[0m \u001b[0mx\u001b[0m\u001b[1;33m.\u001b[0m\u001b[0mshape\u001b[0m\u001b[1;33m[\u001b[0m\u001b[1;36m0\u001b[0m\u001b[1;33m]\u001b[0m \u001b[1;33m!=\u001b[0m \u001b[0my\u001b[0m\u001b[1;33m.\u001b[0m\u001b[0mshape\u001b[0m\u001b[1;33m[\u001b[0m\u001b[1;36m0\u001b[0m\u001b[1;33m]\u001b[0m\u001b[1;33m:\u001b[0m\u001b[1;33m\u001b[0m\u001b[1;33m\u001b[0m\u001b[0m\n\u001b[1;32m--> 399\u001b[1;33m             raise ValueError(f\"x and y must have same first dimension, but \"\n\u001b[0m\u001b[0;32m    400\u001b[0m                              f\"have shapes {x.shape} and {y.shape}\")\n\u001b[0;32m    401\u001b[0m         \u001b[1;32mif\u001b[0m \u001b[0mx\u001b[0m\u001b[1;33m.\u001b[0m\u001b[0mndim\u001b[0m \u001b[1;33m>\u001b[0m \u001b[1;36m2\u001b[0m \u001b[1;32mor\u001b[0m \u001b[0my\u001b[0m\u001b[1;33m.\u001b[0m\u001b[0mndim\u001b[0m \u001b[1;33m>\u001b[0m \u001b[1;36m2\u001b[0m\u001b[1;33m:\u001b[0m\u001b[1;33m\u001b[0m\u001b[1;33m\u001b[0m\u001b[0m\n",
      "\u001b[1;31mValueError\u001b[0m: x and y must have same first dimension, but have shapes (200,) and (1,)"
     ]
    },
    {
     "data": {
      "image/png": "[encoded data removed]",
      "text/plain": [
       "<Figure size 432x288 with 1 Axes>"
      ]
     },
     "metadata": {
      "needs_background": "light"
     },
     "output_type": "display_data"
    }
   ],
   "source": [
    "gate_speed = 1./20. #m/s\n",
    "def gateHChange(y,t):\n",
    "    return gate_speed\n",
    "\n",
    "t = np.linspace(0,60*10,200)\n",
    "h0 = 0\n",
    "sol = odeint(gateHChange,h0,t)\n",
    "plt.plot(t,sol[:,0])\n",
    "    "
   ]
  }
 ],
 "metadata": {
  "kernelspec": {
   "display_name": "Python 3",
   "language": "python",
   "name": "python3"
  },
  "language_info": {
   "codemirror_mode": {
    "name": "ipython",
    "version": 3
   },
   "file_extension": ".py",
   "mimetype": "text/x-python",
   "name": "python",
   "nbconvert_exporter": "python",
   "pygments_lexer": "ipython3",
   "version": "3.8.5"
  }
 },
 "nbformat": 4,
 "nbformat_minor": 4
}
